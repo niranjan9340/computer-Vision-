{
 "cells": [
  {
   "cell_type": "code",
   "execution_count": 1,
   "id": "f13386a4-56b5-4f26-a58c-458baef79405",
   "metadata": {},
   "outputs": [],
   "source": [
    "import numpy as np\n",
    "\n",
    "def entropy(y):\n",
    "    \"\"\"\n",
    "    Calculating the entropy of a list of labels.\n",
    "    \"\"\"\n",
    "    classes, counts = np.unique(y, return_counts=True)\n",
    "    prob = counts / len(y)\n",
    "    entropy = -np.sum(prob * np.log2(prob))\n",
    "    return entropy\n"
   ]
  },
  {
   "cell_type": "code",
   "execution_count": 2,
   "id": "4e2040a3-a0e1-44d2-8ac6-ccdf388d31e2",
   "metadata": {},
   "outputs": [],
   "source": [
    "\n",
    "def information_gain(X, y, feature_idx):\n",
    "    \"\"\"\n",
    "    Calculating the information gain of a feature.\n",
    "    \"\"\"\n",
    "    total_entropy = entropy(y)\n",
    "    values, counts = np.unique(X[:, feature_idx], return_counts=True)\n",
    "    weighted_entropy = 0\n",
    "    for value, count in zip(values, counts):\n",
    "        subset_entropy = entropy(y[X[:, feature_idx] == value])\n",
    "        weighted_entropy += count / len(X) * subset_entropy\n",
    "    information_gain = total_entropy - weighted_entropy\n",
    "    return information_gain\n",
    "\n"
   ]
  },
  {
   "cell_type": "code",
   "execution_count": 3,
   "id": "cbd2286a-5ce0-48e6-b556-4a42a551f124",
   "metadata": {},
   "outputs": [],
   "source": [
    "\n",
    "def find_best_split(X, y):\n",
    "    \"\"\"\n",
    "    Finding the best feature to split on based on information gain.\n",
    "    \"\"\"\n",
    "    best_gain = -1\n",
    "    best_feature = None\n",
    "    for feature_idx in range(X.shape[1]):\n",
    "        gain = information_gain(X, y, feature_idx)\n",
    "        if gain > best_gain:\n",
    "            best_gain = gain\n",
    "            best_feature = feature_idx\n",
    "    return best_feature\n"
   ]
  },
  {
   "cell_type": "code",
   "execution_count": 4,
   "id": "4373c293-cd14-4915-80d1-0cf5a0769389",
   "metadata": {},
   "outputs": [],
   "source": [
    "\n",
    "class DecisionTree:\n",
    "    def __init__(self, max_depth=None):\n",
    "        self.max_depth = max_depth\n",
    "\n",
    "    def fit(self, X, y):\n",
    "        self.tree_ = self._grow_tree(X, y)\n",
    "\n",
    "    def _grow_tree(self, X, y, depth=0):\n",
    "        if len(np.unique(y)) == 1 or (self.max_depth is not None and depth >= self.max_depth):\n",
    "            return np.argmax(np.bincount(y))\n",
    "\n",
    "        feature_idx = find_best_split(X, y)\n",
    "        if feature_idx is None:\n",
    "            return np.argmax(np.bincount(y))\n",
    "\n",
    "        values = np.unique(X[:, feature_idx])\n",
    "        node = {}\n",
    "        node[feature_idx] = {}\n",
    "        for value in values:\n",
    "            mask = X[:, feature_idx] == value\n",
    "            node[feature_idx][value] = self._grow_tree(X[mask], y[mask], depth + 1)\n",
    "        return node\n",
    "\n",
    "    def predict(self, X):\n",
    "        return np.array([self._predict(inputs) for inputs in X])\n",
    "\n",
    "    def _predict(self, inputs):\n",
    "        node = self.tree_\n",
    "        while isinstance(node, dict):\n",
    "            feature_idx = list(node.keys())[0]\n",
    "            node = node[feature_idx][inputs[feature_idx]]\n",
    "        return node"
   ]
  },
  {
   "cell_type": "code",
   "execution_count": 5,
   "id": "04f44fb0-591c-4ef9-809b-f87a21780316",
   "metadata": {},
   "outputs": [
    {
     "name": "stdout",
     "output_type": "stream",
     "text": [
      "[0 1 1 0]\n"
     ]
    }
   ],
   "source": [
    "\n",
    "X = np.array([[0, 0], [0, 1], [1, 0], [1, 1]])\n",
    "y = np.array([0, 1, 1, 0])\n",
    "tree = DecisionTree()\n",
    "tree.fit(X, y)\n",
    "print(tree.predict(X)) \n"
   ]
  },
  {
   "cell_type": "markdown",
   "id": "2be87eff-4354-4129-9940-c104d29137d4",
   "metadata": {},
   "source": [
    "### Training Dataset"
   ]
  },
  {
   "cell_type": "code",
   "execution_count": 9,
   "id": "f7a6e0f2-ab45-4ab3-a0fd-102a17860635",
   "metadata": {},
   "outputs": [],
   "source": [
    "import numpy as np\n",
    "\n",
    "data = [\n",
    "    [30, 'high', 'no', 'fair', 'no'],\n",
    "    [30, 'high', 'no', 'excellent', 'no'],\n",
    "    [31, 'medium', 'no', 'fair', 'yes'],\n",
    "    [40, 'low', 'no', 'fair', 'yes'],\n",
    "    [40, 'low', 'yes', 'fair', 'yes'],\n",
    "    [40, 'low', 'yes', 'excellent', 'no'],\n",
    "    [31, 'medium', 'yes', 'excellent', 'yes'],\n",
    "    [30, 'high', 'no', 'fair', 'no'],\n",
    "    [30, 'medium', 'yes', 'fair', 'yes'],\n",
    "    [31, 'medium', 'yes', 'excellent', 'yes'],\n",
    "    [31, 'high', 'no', 'excellent', 'yes'],\n",
    "    [40, 'medium', 'no', 'fair', 'yes'],\n",
    "    [40, 'high', 'yes', 'fair', 'yes'],\n",
    "    [31, 'medium', 'no', 'excellent', 'no']\n",
    "]\n",
    "\n",
    "\n"
   ]
  },
  {
   "cell_type": "code",
   "execution_count": 10,
   "id": "d1ad0752-e9c0-4bf9-b883-e71d6cacf943",
   "metadata": {},
   "outputs": [
    {
     "name": "stdout",
     "output_type": "stream",
     "text": [
      "Features:\n",
      "[['30' 'high' 'no' 'fair']\n",
      " ['30' 'high' 'no' 'excellent']\n",
      " ['31' 'medium' 'no' 'fair']\n",
      " ['40' 'low' 'no' 'fair']\n",
      " ['40' 'low' 'yes' 'fair']\n",
      " ['40' 'low' 'yes' 'excellent']\n",
      " ['31' 'medium' 'yes' 'excellent']\n",
      " ['30' 'high' 'no' 'fair']\n",
      " ['30' 'medium' 'yes' 'fair']\n",
      " ['31' 'medium' 'yes' 'excellent']\n",
      " ['31' 'high' 'no' 'excellent']\n",
      " ['40' 'medium' 'no' 'fair']\n",
      " ['40' 'high' 'yes' 'fair']\n",
      " ['31' 'medium' 'no' 'excellent']]\n",
      "Labels:\n",
      "[0 0 1 1 1 0 1 0 1 1 1 1 1 0]\n"
     ]
    }
   ],
   "source": [
    "\n",
    "label_map = {'yes': 1, 'no': 0}\n",
    "\n",
    "\n",
    "data = np.array(data)\n",
    "\n",
    "X = data[:, :-1]  \n",
    "y = np.array([label_map[label] for label in data[:, -1]]) \n",
    "\n",
    "print(\"Features:\")\n",
    "print(X)\n",
    "print(\"Labels:\")\n",
    "print(y)\n"
   ]
  },
  {
   "cell_type": "code",
   "execution_count": null,
   "id": "ca8d782b-4c61-4c7e-8ebe-35a6413165a9",
   "metadata": {},
   "outputs": [],
   "source": []
  }
 ],
 "metadata": {
  "kernelspec": {
   "display_name": "Python 3 (ipykernel)",
   "language": "python",
   "name": "python3"
  },
  "language_info": {
   "codemirror_mode": {
    "name": "ipython",
    "version": 3
   },
   "file_extension": ".py",
   "mimetype": "text/x-python",
   "name": "python",
   "nbconvert_exporter": "python",
   "pygments_lexer": "ipython3",
   "version": "3.11.2"
  }
 },
 "nbformat": 4,
 "nbformat_minor": 5
}
